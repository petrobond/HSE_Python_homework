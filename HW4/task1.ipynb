{
 "cells": [
  {
   "cell_type": "code",
   "execution_count": 2,
   "id": "07dd96a0",
   "metadata": {},
   "outputs": [],
   "source": [
    "import re\n",
    "\n",
    "ALLOWED = \"АВЕКМНОРСТУХ\"\n",
    "\n",
    "PATTERN = re.compile(rf'^([{ALLOWED}])(\\d{{3}})([{ALLOWED}]{{2}})(\\d{{2,3}})$')"
   ]
  },
  {
   "cell_type": "code",
   "execution_count": 3,
   "id": "71540799",
   "metadata": {},
   "outputs": [],
   "source": [
    "def parse_plate(s: str):\n",
    "    \"\"\"\n",
    "    Проверяет номер формата: 1 буква, 3 цифры, 2 буквы, 2–3 цифры (регион).\n",
    "    Допускаются только кириллические буквы из набора ГОСТ. \n",
    "    \"\"\"\n",
    "    if not isinstance(s, str):\n",
    "        return None\n",
    "    s_norm = s.strip().upper()          \n",
    "    m = PATTERN.fullmatch(s_norm)       \n",
    "    if not m:\n",
    "        return None\n",
    "    letter1, digits3, letters2, region = m.groups()\n",
    "    return letter1 + digits3 + letters2, region"
   ]
  },
  {
   "cell_type": "code",
   "execution_count": 4,
   "id": "7500b63f",
   "metadata": {},
   "outputs": [
    {
     "name": "stdout",
     "output_type": "stream",
     "text": [
      "Номер А222ВС валиден. Регион: 96.\n",
      "Номер А222БС96 не валиден.\n",
      "Номер А222BС96 не валиден.\n"
     ]
    }
   ],
   "source": [
    "for plate in ['А222ВС96', 'А222БС96', 'А222BС96']:  # третий номер с латинской B\n",
    "    res = parse_plate(plate)\n",
    "    print(f'Номер {res[0]} валиден. Регион: {res[1]}.' if res else f'Номер {plate} не валиден.')"
   ]
  },
  {
   "cell_type": "code",
   "execution_count": null,
   "id": "7e0217ee",
   "metadata": {},
   "outputs": [],
   "source": []
  }
 ],
 "metadata": {
  "kernelspec": {
   "display_name": "Python 3",
   "language": "python",
   "name": "python3"
  },
  "language_info": {
   "codemirror_mode": {
    "name": "ipython",
    "version": 3
   },
   "file_extension": ".py",
   "mimetype": "text/x-python",
   "name": "python",
   "nbconvert_exporter": "python",
   "pygments_lexer": "ipython3",
   "version": "3.13.2"
  }
 },
 "nbformat": 4,
 "nbformat_minor": 5
}
