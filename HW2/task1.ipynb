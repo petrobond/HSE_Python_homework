{
 "cells": [
  {
   "cell_type": "code",
   "execution_count": 2,
   "id": "d0802360",
   "metadata": {},
   "outputs": [
    {
     "name": "stdout",
     "output_type": "stream",
     "text": [
      "2002-10-02 00:00:00\n",
      "2013-10-11 00:00:00\n",
      "1977-08-18 00:00:00\n"
     ]
    }
   ],
   "source": [
    "from datetime import datetime\n",
    "\n",
    "MONTH = {\n",
    "    'January':1,'February':2,'March':3,'April':4,'May':5,'June':6,\n",
    "    'July':7,'August':8,'September':9,'October':10,'November':11,'December':12\n",
    "}\n",
    "\n",
    "with open('dates.txt', encoding='utf-8') as f:\n",
    "    for line in f:\n",
    "        s = line.strip()\n",
    "        if not s:\n",
    "            continue\n",
    "        # взять часть после последнего дефиса (отсекаем название газеты)\n",
    "        if '-' in s:\n",
    "            s = s.rsplit('-', 1)[1].strip()\n",
    "        # отбросить день недели \"Wednesday, ...\" → \"...\", если есть запятая\n",
    "        if ', ' in s:\n",
    "            s = s.split(', ', 1)[1]\n",
    "\n",
    "        if '.' in s:  # формат: 11.10.13\n",
    "            d, m, y = map(int, s.split('.'))\n",
    "            y += 2000\n",
    "        elif ',' in s:  # формат: October 2, 2002\n",
    "            left, y = s.split(',', 1)\n",
    "            mname, d = left.split()\n",
    "            d, y = int(d), int(y)\n",
    "            m = MONTH[mname]\n",
    "        else:  # формат: 18 August 1977\n",
    "            d_s, mname, y_s = s.split()\n",
    "            d, y = int(d_s), int(y_s)\n",
    "            m = MONTH[mname]\n",
    "\n",
    "        print(datetime(y, m, d))"
   ]
  },
  {
   "cell_type": "code",
   "execution_count": null,
   "id": "15e56199",
   "metadata": {},
   "outputs": [],
   "source": []
  }
 ],
 "metadata": {
  "kernelspec": {
   "display_name": "Python 3",
   "language": "python",
   "name": "python3"
  },
  "language_info": {
   "codemirror_mode": {
    "name": "ipython",
    "version": 3
   },
   "file_extension": ".py",
   "mimetype": "text/x-python",
   "name": "python",
   "nbconvert_exporter": "python",
   "pygments_lexer": "ipython3",
   "version": "3.13.2"
  }
 },
 "nbformat": 4,
 "nbformat_minor": 5
}
