{
 "cells": [
  {
   "cell_type": "code",
   "execution_count": 1,
   "id": "a87d7ced",
   "metadata": {},
   "outputs": [],
   "source": [
    "from datetime import datetime, timedelta\n",
    "\n",
    "def date_range(start_date: str, end_date: str) -> list[str]:\n",
    "    try:\n",
    "        s = datetime.strptime(start_date.strip(), \"%Y-%m-%d\").date()\n",
    "        e = datetime.strptime(end_date.strip(), \"%Y-%m-%d\").date()\n",
    "        if s > e:\n",
    "            return []\n",
    "        res, d = [], s\n",
    "        while d <= e:\n",
    "            res.append(d.isoformat())\n",
    "            d += timedelta(days=1)\n",
    "        return res\n",
    "    except Exception:\n",
    "        return []\n"
   ]
  },
  {
   "cell_type": "code",
   "execution_count": 2,
   "id": "1d07c2c6",
   "metadata": {},
   "outputs": [
    {
     "name": "stdout",
     "output_type": "stream",
     "text": [
      "['2022-01-01', '2022-01-02', '2022-01-03']\n"
     ]
    }
   ],
   "source": [
    "print(date_range('2022-01-01', '2022-01-03'))"
   ]
  },
  {
   "cell_type": "code",
   "execution_count": 4,
   "id": "6f1f8fb1",
   "metadata": {},
   "outputs": [
    {
     "name": "stdout",
     "output_type": "stream",
     "text": [
      "[]\n"
     ]
    }
   ],
   "source": [
    "print(date_range('2022-01-03', '2022-01-01'))"
   ]
  },
  {
   "cell_type": "code",
   "execution_count": 5,
   "id": "344c24fc",
   "metadata": {},
   "outputs": [
    {
     "name": "stdout",
     "output_type": "stream",
     "text": [
      "[]\n"
     ]
    }
   ],
   "source": [
    "print(date_range('дата1', 'дата2'))"
   ]
  },
  {
   "cell_type": "code",
   "execution_count": null,
   "id": "5bb5e3ca",
   "metadata": {},
   "outputs": [],
   "source": []
  }
 ],
 "metadata": {
  "kernelspec": {
   "display_name": "Python 3",
   "language": "python",
   "name": "python3"
  },
  "language_info": {
   "codemirror_mode": {
    "name": "ipython",
    "version": 3
   },
   "file_extension": ".py",
   "mimetype": "text/x-python",
   "name": "python",
   "nbconvert_exporter": "python",
   "pygments_lexer": "ipython3",
   "version": "3.13.2"
  }
 },
 "nbformat": 4,
 "nbformat_minor": 5
}
