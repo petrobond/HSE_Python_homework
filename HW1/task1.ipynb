{
 "cells": [
  {
   "cell_type": "code",
   "execution_count": 2,
   "id": "3a290c92",
   "metadata": {},
   "outputs": [],
   "source": [
    "import json\n",
    "\n",
    "purchases = {}\n",
    "with open('purchase_log.txt', encoding='utf-8') as f:\n",
    "    for line in f:\n",
    "        if not line.strip():\n",
    "            continue\n",
    "        d = json.loads(line)\n",
    "        u, c = d.get('user_id'), d.get('category')\n",
    "        if (u, c) == ('user_id', 'category'):\n",
    "            continue  # пропустить заголовок\n",
    "        if u and c:\n",
    "            purchases[u] = c"
   ]
  },
  {
   "cell_type": "code",
   "execution_count": 3,
   "id": "055b11a2",
   "metadata": {},
   "outputs": [
    {
     "name": "stdout",
     "output_type": "stream",
     "text": [
      "1840e0b9d4: Продукты\n",
      "4e4f90fcfb: Электроника\n",
      "afea8d72fc: Электроника\n",
      "373a6055fe: Бытовая техника\n",
      "9b2ab046f3: Электроника\n"
     ]
    }
   ],
   "source": [
    "from itertools import islice\n",
    "\n",
    "for k, v in islice(purchases.items(), 5):\n",
    "    print(f\"{k}: {v}\")"
   ]
  },
  {
   "cell_type": "code",
   "execution_count": null,
   "id": "d8c921c6",
   "metadata": {},
   "outputs": [],
   "source": [
    "import re, csv\n",
    "\n",
    "with open('visit_log.csv', encoding='utf-8', newline='') as src, \\\n",
    "     open('funnel.csv', 'w', encoding='utf-8', newline='') as dst:\n",
    "        r, w = csv.reader(src), csv.writer(dst)\n",
    "        w.writerow(['user_id', 'source', 'category'])\n",
    "        first = True\n",
    "        for row in r:\n",
    "            if not row:\n",
    "                continue \n",
    "            # пропустить заголовок\n",
    "            if first and {'user_id', 'source'}.issubset(set(x.strip().lower() for x in row)):\n",
    "                first = False\n",
    "                continue\n",
    "            first = False\n",
    "            user_id = row[0].strip() if len(row) > 0 else ''\n",
    "            source  = row[1].strip() if len(row) > 1 else ''\n",
    "            cat = purchases.get(user_id)\n",
    "            if cat:\n",
    "                w.writerow([user_id, source, cat])"
   ]
  },
  {
   "cell_type": "code",
   "execution_count": 6,
   "id": "20c2fa3d",
   "metadata": {},
   "outputs": [
    {
     "name": "stdout",
     "output_type": "stream",
     "text": [
      "user_id,source,category\n",
      "1840e0b9d4,other,Продукты\n",
      "4e4f90fcfb,context,Электроника\n",
      "afea8d72fc,other,Электроника\n",
      "2824221f38,email,Продукты\n"
     ]
    }
   ],
   "source": [
    "with open('funnel.csv', encoding='utf-8') as f:\n",
    "    for line in islice(f, 5):\n",
    "        print(line.rstrip('\\n'))"
   ]
  },
  {
   "cell_type": "code",
   "execution_count": null,
   "id": "da21339e",
   "metadata": {},
   "outputs": [],
   "source": []
  }
 ],
 "metadata": {
  "kernelspec": {
   "display_name": "Python 3",
   "language": "python",
   "name": "python3"
  },
  "language_info": {
   "codemirror_mode": {
    "name": "ipython",
    "version": 3
   },
   "file_extension": ".py",
   "mimetype": "text/x-python",
   "name": "python",
   "nbconvert_exporter": "python",
   "pygments_lexer": "ipython3",
   "version": "3.13.2"
  }
 },
 "nbformat": 4,
 "nbformat_minor": 5
}
