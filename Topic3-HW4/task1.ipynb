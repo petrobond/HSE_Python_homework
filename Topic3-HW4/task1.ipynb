{
 "cells": [
  {
   "cell_type": "code",
   "execution_count": 1,
   "id": "181b6d16",
   "metadata": {},
   "outputs": [],
   "source": [
    "documents = [\n",
    "    {'type': 'passport',  'number': '2207 876234', 'name': 'Василий Гупкин'},\n",
    "    {'type': 'invoice',   'number': '11-2',        'name': 'Геннадий Покемонов'},\n",
    "    {'type': 'insurance', 'number': '10006',       'name': 'Аристарх Павлов'}\n",
    "]\n"
   ]
  },
  {
   "cell_type": "code",
   "execution_count": 2,
   "id": "c2457b8f",
   "metadata": {},
   "outputs": [],
   "source": [
    "directories = {\n",
    "    '1': ['2207 876234', '11-2'],\n",
    "    '2': ['10006'],\n",
    "    '3': []\n",
    "}"
   ]
  },
  {
   "cell_type": "code",
   "execution_count": 3,
   "id": "2624b8d4",
   "metadata": {},
   "outputs": [],
   "source": [
    "def get_owner_by_number(number: str) -> str | None:\n",
    "    \"\"\"Вернуть имя владельца по номеру документа или None, если не найден.\"\"\"\n",
    "    for doc in documents:\n",
    "        if doc.get('number') == number:\n",
    "            return doc.get('name')\n",
    "    return None"
   ]
  },
  {
   "cell_type": "code",
   "execution_count": 4,
   "id": "036c0248",
   "metadata": {},
   "outputs": [],
   "source": [
    "def handle_command_p():\n",
    "    number = input('Введите номер документа:\\n').strip()\n",
    "    owner = get_owner_by_number(number)\n",
    "    if owner:\n",
    "        print(f'Владелец документа: {owner}')\n",
    "    else:\n",
    "        print('Документ с таким номером не найден.')"
   ]
  },
  {
   "cell_type": "code",
   "execution_count": 5,
   "id": "bf5618d4",
   "metadata": {},
   "outputs": [],
   "source": [
    "def main_loop():\n",
    "    while True:\n",
    "        print('Введите команду:', end=' ', flush=True)\n",
    "        cmd = input().strip().lower()\n",
    "        if cmd == 'q':\n",
    "            print('Выход.')\n",
    "            break\n",
    "        elif cmd == 'p':\n",
    "            print('Введите номер документа:', end=' ', flush=True)\n",
    "            number = input().strip()\n",
    "            owner = next((d['name'] for d in documents if d.get('number') == number), None)\n",
    "            print(f'Владелец документа: {owner}' if owner else 'Документ с таким номером не найден.')\n",
    "        else:\n",
    "            print('Неизвестная команда. Доступные: p — владелец по номеру, q — выход.')"
   ]
  },
  {
   "cell_type": "code",
   "execution_count": null,
   "id": "682c5d83",
   "metadata": {},
   "outputs": [
    {
     "name": "stdout",
     "output_type": "stream",
     "text": [
      "Введите команду: "
     ]
    }
   ],
   "source": [
    "main_loop()"
   ]
  },
  {
   "cell_type": "markdown",
   "id": "33766860",
   "metadata": {},
   "source": [
    "Этот код не работает в Юпитере из-за 'input'. Можно протестировать на task1.py."
   ]
  },
  {
   "cell_type": "code",
   "execution_count": null,
   "id": "b487986e",
   "metadata": {},
   "outputs": [],
   "source": []
  }
 ],
 "metadata": {
  "kernelspec": {
   "display_name": "Python 3",
   "language": "python",
   "name": "python3"
  },
  "language_info": {
   "codemirror_mode": {
    "name": "ipython",
    "version": 3
   },
   "file_extension": ".py",
   "mimetype": "text/x-python",
   "name": "python",
   "nbconvert_exporter": "python",
   "pygments_lexer": "ipython3",
   "version": "3.13.2"
  }
 },
 "nbformat": 4,
 "nbformat_minor": 5
}
