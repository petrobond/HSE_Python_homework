{
 "cells": [
  {
   "cell_type": "code",
   "execution_count": 2,
   "id": "0f627743",
   "metadata": {},
   "outputs": [
    {
     "name": "stdout",
     "output_type": "stream",
     "text": [
      "th\n"
     ]
    }
   ],
   "source": [
    "word = 'python'  \n",
    "\n",
    "n = len(word)\n",
    "mid = n // 2\n",
    "print(word[mid] if n % 2 else word[mid-1:mid+1])"
   ]
  },
  {
   "cell_type": "code",
   "execution_count": null,
   "id": "99f7153e",
   "metadata": {},
   "outputs": [],
   "source": []
  }
 ],
 "metadata": {
  "kernelspec": {
   "display_name": "Python 3",
   "language": "python",
   "name": "python3"
  },
  "language_info": {
   "codemirror_mode": {
    "name": "ipython",
    "version": 3
   },
   "file_extension": ".py",
   "mimetype": "text/x-python",
   "name": "python",
   "nbconvert_exporter": "python",
   "pygments_lexer": "ipython3",
   "version": "3.13.2"
  }
 },
 "nbformat": 4,
 "nbformat_minor": 5
}
