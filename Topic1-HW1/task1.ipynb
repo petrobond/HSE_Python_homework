{
 "cells": [
  {
   "cell_type": "code",
   "execution_count": 4,
   "id": "ae49ef40",
   "metadata": {},
   "outputs": [
    {
     "name": "stdout",
     "output_type": "stream",
     "text": [
      "Обычный год\n"
     ]
    }
   ],
   "source": [
    "year = 1900\n",
    "print('Високосный год' if year % 400 == 0 or (year % 4 == 0 and year % 100 != 0) else 'Обычный год')\n"
   ]
  },
  {
   "cell_type": "code",
   "execution_count": null,
   "id": "ea5ddc5c",
   "metadata": {},
   "outputs": [],
   "source": []
  }
 ],
 "metadata": {
  "kernelspec": {
   "display_name": "Python 3",
   "language": "python",
   "name": "python3"
  },
  "language_info": {
   "codemirror_mode": {
    "name": "ipython",
    "version": 3
   },
   "file_extension": ".py",
   "mimetype": "text/x-python",
   "name": "python",
   "nbconvert_exporter": "python",
   "pygments_lexer": "ipython3",
   "version": "3.13.2"
  }
 },
 "nbformat": 4,
 "nbformat_minor": 5
}
